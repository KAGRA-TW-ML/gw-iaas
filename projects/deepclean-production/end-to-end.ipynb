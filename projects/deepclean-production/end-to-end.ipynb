{
 "cells": [
  {
   "cell_type": "code",
   "execution_count": 1,
   "id": "c8f4bfc6",
   "metadata": {},
   "outputs": [],
   "source": [
    "import os\n",
    "import pickle\n",
    "import sys\n",
    "import time\n",
    "from inspect import signature\n",
    "from queue import Queue\n",
    "from threading import Event\n",
    "\n",
    "import numpy as np\n",
    "import matplotlib\n",
    "import matplotlib.pyplot as plt\n",
    "import tritonclient.grpc as triton\n",
    "from gwpy.timeseries import TimeSeries, TimeSeriesDict\n",
    "from rich.progress import Progress\n",
    "from scipy import signal\n",
    "\n",
    "from deepcleaner import utils as dcu\n",
    "from deepcleaner.pipeline import main as pipeline\n",
    "from hermes.typeo import typeo\n",
    "\n",
    "%matplotlib inline"
   ]
  },
  {
   "cell_type": "code",
   "execution_count": 2,
   "id": "0f00a59b",
   "metadata": {},
   "outputs": [
    {
     "data": {
      "text/plain": [
       "{'witness_data_dir': '/home/muhammed.saleem/deepClean/automated-offline/o3replay_unofficial/live/lldetchar/H1',\n",
       " 'strain_data_dir': '/home/muhammed.saleem/deepClean/automated-offline/o3replay_unofficial/live/llhoft/H1',\n",
       " 'write_dir': '/home/alec.gunny/frames/deepcleaned/aggregated-0.5s',\n",
       " 'kernel_length': 1.0,\n",
       " 'stride_length': 0.001953125,\n",
       " 'sample_rate': 4096.0,\n",
       " 'inference_rate': 750,\n",
       " 'channels': 'channels.txt',\n",
       " 'preprocess_pkl': 'ppr.bin',\n",
       " 'sequence_id': 1001,\n",
       " 'url': 'localhost:8001',\n",
       " 'model_name': 'deepclean-stream',\n",
       " 'model_version': 1,\n",
       " 'max_latency': 0.5,\n",
       " 'num_frames': 100,\n",
       " 'start_first': True,\n",
       " 'timeout': 3.0,\n",
       " 'log_file': 'deepclean.latency-0.5.log',\n",
       " 'verbose': True}"
      ]
     },
     "execution_count": 2,
     "metadata": {},
     "output_type": "execute_result"
    }
   ],
   "source": [
    "def f(**kwargs):\n",
    "    return kwargs\n",
    "f.__signature__ = signature(pipeline)\n",
    "sys.argv = [None, \"--typeo\"]\n",
    "config = typeo(f)()\n",
    "config[\"num_frames\"] = 100\n",
    "config[\"inference_rate\"] = 750\n",
    "config"
   ]
  },
  {
   "cell_type": "code",
   "execution_count": 3,
   "id": "a2e39dd1",
   "metadata": {},
   "outputs": [],
   "source": [
    "throw_away = config[\"max_latency\"] // config[\"stride_length\"]\n",
    "stride = int(config[\"stride_length\"] * config[\"sample_rate\"])\n",
    "\n",
    "with open(config[\"channels\"], \"r\") as f:\n",
    "    channels = [i for i in f.read().splitlines() if i]\n",
    "\n",
    "with open(config[\"preprocess_pkl\"], \"rb\") as f:\n",
    "    preproc_config = pickle.load(f)\n",
    "\n",
    "low = preproc_config[\"filt_fl\"][0] * 2 / config[\"sample_rate\"]\n",
    "high = preproc_config[\"filt_fh\"][0] * 2 / config[\"sample_rate\"]\n",
    "sos = signal.butter(\n",
    "    preproc_config[\"filt_order\"],\n",
    "    [low, high],\n",
    "    btype=\"bandpass\",\n",
    "    output=\"sos\"\n",
    ")\n",
    "\n",
    "mean = preproc_config[\"mean\"].astype(\"float32\")\n",
    "scale = preproc_config[\"std\"].astype(\"float32\")"
   ]
  },
  {
   "cell_type": "code",
   "execution_count": 4,
   "id": "1aa89a19",
   "metadata": {},
   "outputs": [
    {
     "data": {
      "text/plain": [
       "name: \"deepclean-stream\"\n",
       "versions: \"1\"\n",
       "platform: \"ensemble\"\n",
       "inputs {\n",
       "  name: \"stream\"\n",
       "  datatype: \"FP32\"\n",
       "  shape: 1\n",
       "  shape: 21\n",
       "  shape: 8\n",
       "}\n",
       "outputs {\n",
       "  name: \"aggregator\"\n",
       "  datatype: \"FP32\"\n",
       "  shape: 1\n",
       "  shape: 8\n",
       "}"
      ]
     },
     "execution_count": 4,
     "metadata": {},
     "output_type": "execute_result"
    }
   ],
   "source": [
    "client = triton.InferenceServerClient(config[\"url\"])\n",
    "metadata = client.get_model_metadata(config[\"model_name\"])\n",
    "assert metadata.inputs[0].shape[-1] == stride\n",
    "input = triton.InferInput(\n",
    "    name=metadata.inputs[0].name,\n",
    "    shape=metadata.inputs[0].shape,\n",
    "    datatype=metadata.inputs[0].datatype\n",
    ")\n",
    "metadata"
   ]
  },
  {
   "cell_type": "markdown",
   "id": "96a87990",
   "metadata": {},
   "source": [
    "We need to do streaming inference using Triton, so that our streaming updates always update the same snapshotter state. This means that we have to do inference _asynchronously_, and define a callback function that Triton will use to handle responses from the server in a separate thread\n",
    "\n",
    "We'll define a simple callback function below that will uncenter the noise prediction by applying the inverse of the preprocessing transformation using the mean and standard deviation of the _strain_ channel. The other key thing we do in the callback is throw away our first few predictions, since those will correspond to predictions for times _before_ the start of the data stream (working on a visualization for this)."
   ]
  },
  {
   "cell_type": "code",
   "execution_count": 5,
   "id": "2a74781f",
   "metadata": {},
   "outputs": [],
   "source": [
    "noise_predictions = []\n",
    "error_queue = Queue()\n",
    "stop_event = Event()\n",
    "\n",
    "def callback(result, error=None):\n",
    "    \"\"\"Simplified version of our real callback function\"\"\"\n",
    "\n",
    "    # make sure nothing went wrong on the server\n",
    "    if error is not None and not stop_event.is_set():\n",
    "        stop_event.set()\n",
    "        error_queue.put(str(error))\n",
    "    elif stop_event.is_set():\n",
    "        # if the stop event got set, something already\n",
    "        # went wrong on the server, and there's no\n",
    "        # point in catching the same error over and over\n",
    "        return\n",
    "\n",
    "    request_id = int(result.get_response().id)\n",
    "\n",
    "    # we need to get rid of our first few inferences\n",
    "    # since they technically correspond to predictions\n",
    "    # from the before the first frame starts!\n",
    "    if request_id < throw_away:\n",
    "        return\n",
    "\n",
    "    # un-center the server's `stride`-sized response\n",
    "    # and add it to our list of responses\n",
    "    prediction = result.as_numpy(metadata.outputs[0].name)[0]\n",
    "    prediction = mean[0] + scale[0] * prediction\n",
    "    noise_predictions.append(prediction)"
   ]
  },
  {
   "cell_type": "markdown",
   "id": "0c5a5b09",
   "metadata": {},
   "source": [
    "Now we're ready to do inference. We'll load in one frame at a time, then iterate through each frame in `stride`-sized chunks which will update the snapshot state on the server."
   ]
  },
  {
   "cell_type": "code",
   "execution_count": 6,
   "id": "bee10101",
   "metadata": {},
   "outputs": [
    {
     "data": {
      "application/vnd.jupyter.widget-view+json": {
       "model_id": "651fad372e6f44c79c056fad4b3a03b8",
       "version_major": 2,
       "version_minor": 0
      },
      "text/plain": [
       "Output()"
      ]
     },
     "metadata": {},
     "output_type": "display_data"
    },
    {
     "data": {
      "text/html": [
       "<pre style=\"white-space:pre;overflow-x:auto;line-height:normal;font-family:Menlo,'DejaVu Sans Mono',consolas,'Courier New',monospace\">Sending requests <span style=\"color: #729c1f; text-decoration-color: #729c1f\">━━━━━━━━━━━━━━━━━━━━━━━━━━━━━━━━━━━━━━━━</span> <span style=\"color: #800080; text-decoration-color: #800080\">100%</span> <span style=\"color: #008080; text-decoration-color: #008080\">0:00:00</span>\n",
       "</pre>\n"
      ],
      "text/plain": [
       "Sending requests \u001b[38;2;114;156;31m━━━━━━━━━━━━━━━━━━━━━━━━━━━━━━━━━━━━━━━━\u001b[0m \u001b[35m100%\u001b[0m \u001b[36m0:00:00\u001b[0m\n"
      ]
     },
     "metadata": {},
     "output_type": "display_data"
    },
    {
     "data": {
      "text/html": [
       "<pre style=\"white-space:pre;overflow-x:auto;line-height:normal;font-family:Menlo,'DejaVu Sans Mono',consolas,'Courier New',monospace\">\n",
       "</pre>\n"
      ],
      "text/plain": [
       "\n"
      ]
     },
     "metadata": {},
     "output_type": "display_data"
    }
   ],
   "source": [
    "strains = np.array([])\n",
    "updates_per_frame = int(config[\"sample_rate\"] // stride)\n",
    "total_updates = updates_per_frame * (config[\"num_frames\"] + 1)\n",
    "\n",
    "# open a gRPC streaming connection to the server\n",
    "with client, Progress() as progress:\n",
    "    client.start_stream(callback=callback)\n",
    "    task_id = progress.add_task(\"Sending requests\", total=total_updates)\n",
    "\n",
    "    fnames = os.listdir(config[\"witness_data_dir\"])[:config[\"num_frames\"] + 1]\n",
    "    for n, fname in enumerate(fnames):\n",
    "        # read the witness data frame file\n",
    "        witness_fname = os.path.join(config[\"witness_data_dir\"], fname)\n",
    "        witness_dict = TimeSeriesDict.read(witness_fname, channels[1:])\n",
    "\n",
    "        # preprocess it by resampling, stacking into an array,\n",
    "        # then centering the data per-channel\n",
    "        witnesses = []\n",
    "        for channel in channels[1:]:\n",
    "            witness = witness_dict[channel]\n",
    "            if witness.sample_rate.value != config[\"sample_rate\"]:\n",
    "                witness.resample(config[\"sample_rate\"])\n",
    "            witnesses.append(witness.value)\n",
    "                \n",
    "        witnesses = np.stack(witnesses).astype(\"float32\")[None]\n",
    "        witnesses = (witnesses - mean[1:]) / scale[1:]\n",
    "\n",
    "        # load the strain data and just add it\n",
    "        # to our running array keeping track of that\n",
    "        strain_fname = os.path.join(\n",
    "            config[\"strain_data_dir\"], fname.replace(\"Detchar\", \"HOFT\")\n",
    "        )\n",
    "        strain = TimeSeries.read(strain_fname, channels[0])\n",
    "        if strain.sample_rate.value != config[\"sample_rate\"]:\n",
    "            strain.resample(config[\"sample_rate\"])[0]\n",
    "        if n < (len(fnames) - 1):\n",
    "            strains = np.append(strains, strain)\n",
    "\n",
    "        # send `stride`-sized updates to the snapshot\n",
    "        # model on the server\n",
    "        for i in range(updates_per_frame):\n",
    "\n",
    "            # check to make sure everything is still\n",
    "            # ok on the server\n",
    "            if stop_event.is_set():\n",
    "                err = error_queue.get_nowait()\n",
    "                raise RuntimeError(err)\n",
    "\n",
    "            # update the input protobuf with the new data\n",
    "            update = witnesses[:, :, stride * i : stride * (i + 1)]\n",
    "            input.set_data_from_numpy(update)\n",
    "\n",
    "            # make an asynchronous request using the\n",
    "            # current update\n",
    "            request_id = n * updates_per_frame + i\n",
    "            client.async_stream_infer(\n",
    "                config[\"model_name\"],\n",
    "                model_version=str(config[\"model_version\"]),\n",
    "                inputs=[input],\n",
    "                request_id=str(request_id),\n",
    "                sequence_id=config[\"sequence_id\"],\n",
    "                sequence_start=request_id == 0,\n",
    "                sequence_end=request_id == total_updates - 1\n",
    "            )\n",
    "\n",
    "            # sleep to keep from overwhelming the network\n",
    "            progress.update(task_id, advance=1)\n",
    "            time.sleep(1 / config[\"inference_rate\"])\n",
    "\n",
    "noise_predictions = np.concatenate(noise_predictions)\n",
    "noise_predictions = noise_predictions[:stride * updates_per_frame * (len(fnames) - 1)]"
   ]
  },
  {
   "cell_type": "code",
   "execution_count": 7,
   "id": "e866d5b1",
   "metadata": {},
   "outputs": [],
   "source": [
    "data = np.stack([strains, noise_predictions])\n",
    "cleaned = np.array([])\n",
    "for strain, noise in np.split(data, 10, axis=-1):\n",
    "    strain = signal.sosfiltfilt(sos, strain)\n",
    "    noise = signal.sosfiltfilt(sos, noise)\n",
    "\n",
    "    clean = strain - noise\n",
    "    cleaned = np.append(cleaned, clean)"
   ]
  },
  {
   "cell_type": "code",
   "execution_count": 8,
   "id": "57e7277a",
   "metadata": {},
   "outputs": [
    {
     "data": {
      "image/png": "[encoded data removed]",
      "text/plain": [
       "<Figure size 432x288 with 1 Axes>"
      ]
     },
     "metadata": {
      "needs_background": "light"
     },
     "output_type": "display_data"
    }
   ],
   "source": [
    "fig, ax = plt.subplots()\n",
    "\n",
    "def get_asd(ts):\n",
    "    ts = TimeSeries(ts, sample_rate=config[\"sample_rate\"])\n",
    "    asd = ts.asd(fftlength=10, overlap=0.5, method=\"median\")\n",
    "    return asd.crop(20, 300)\n",
    "\n",
    "ax.loglog(get_asd(cleaned), label=\"cleaned\")\n",
    "ax.loglog(get_asd(strains), label=\"raw\")\n",
    "ax.legend()\n",
    "fig.show()"
   ]
  }
 ],
 "metadata": {
  "kernelspec": {
   "display_name": "Python 3 (ipykernel)",
   "language": "python",
   "name": "python3"
  },
  "language_info": {
   "codemirror_mode": {
    "name": "ipython",
    "version": 3
   },
   "file_extension": ".py",
   "mimetype": "text/x-python",
   "name": "python",
   "nbconvert_exporter": "python",
   "pygments_lexer": "ipython3",
   "version": "3.8.12"
  }
 },
 "nbformat": 4,
 "nbformat_minor": 5
}
