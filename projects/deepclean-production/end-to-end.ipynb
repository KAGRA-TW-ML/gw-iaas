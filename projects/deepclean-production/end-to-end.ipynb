{
 "cells": [
  {
   "cell_type": "code",
   "execution_count": 1,
   "id": "c8f4bfc6",
   "metadata": {},
   "outputs": [],
   "source": [
    "import os\n",
    "import pickle\n",
    "import sys\n",
    "import time\n",
    "from inspect import signature\n",
    "from queue import Queue\n",
    "from threading import Event\n",
    "from typing import Tuple\n",
    "\n",
    "import numpy as np\n",
    "import matplotlib\n",
    "import matplotlib.pyplot as plt\n",
    "import tritonclient.grpc as triton\n",
    "from gwpy.frequencyseries import FrequencySeries\n",
    "from gwpy.timeseries import TimeSeries, TimeSeriesDict\n",
    "from rich.progress import Progress\n",
    "from scipy import signal\n",
    "\n",
    "from deepcleaner import utils as dcu\n",
    "from deepcleaner.pipeline import main as pipeline\n",
    "from hermes.typeo import typeo\n",
    "\n",
    "%matplotlib inline"
   ]
  },
  {
   "cell_type": "code",
   "execution_count": 2,
   "id": "0f00a59b",
   "metadata": {},
   "outputs": [
    {
     "data": {
      "text/plain": [
       "{'witness_data_dir': '/home/muhammed.saleem/deepClean/automated-offline/o3replay_unofficial/live/lldetchar/H1',\n",
       " 'strain_data_dir': '/home/muhammed.saleem/deepClean/automated-offline/o3replay_unofficial/live/llhoft/H1',\n",
       " 'write_dir': '/home/alec.gunny/frames/deepcleaned/aggregated-0.5s',\n",
       " 'kernel_length': 1.0,\n",
       " 'stride_length': 0.001953125,\n",
       " 'sample_rate': 4096.0,\n",
       " 'inference_rate': 500,\n",
       " 'channels': 'channels.txt',\n",
       " 'preprocess_pkl': 'ppr.bin',\n",
       " 'sequence_id': 1001,\n",
       " 'url': 'localhost:8001',\n",
       " 'model_name': 'deepclean-stream',\n",
       " 'model_version': 1,\n",
       " 'max_latency': 0.5,\n",
       " 'num_frames': 100,\n",
       " 'start_first': True,\n",
       " 'timeout': 3.0,\n",
       " 'log_file': 'deepclean.latency-0.5.log',\n",
       " 'verbose': True}"
      ]
     },
     "execution_count": 2,
     "metadata": {},
     "output_type": "execute_result"
    }
   ],
   "source": [
    "# don't mind this, just a quick hack to easily\n",
    "# get the arguments I call the cleaning script with\n",
    "def f(**kwargs):\n",
    "    return kwargs\n",
    "f.__signature__ = signature(pipeline)\n",
    "sys.argv = [None, \"--typeo\", \":deepclean\"]\n",
    "config = typeo(f)()\n",
    "\n",
    "# I'll replace a coupel procedural params\n",
    "# that will make running things here easier\n",
    "config[\"num_frames\"] = 100\n",
    "config[\"inference_rate\"] = 500\n",
    "config"
   ]
  },
  {
   "cell_type": "code",
   "execution_count": 3,
   "id": "a2e39dd1",
   "metadata": {},
   "outputs": [],
   "source": [
    "# define some useful parameters for how to break up our data\n",
    "throw_away = config[\"max_latency\"] // config[\"stride_length\"]\n",
    "stride_size = int(config[\"sample_rate\"] * config[\"stride_length\"])\n",
    "kernel_size = int(config[\"sample_rate\"] * config[\"kernel_length\"])\n",
    "\n",
    "# load in some additional files we'll need\n",
    "with open(config[\"channels\"], \"r\") as f:\n",
    "    channels = [i for i in f.read().splitlines() if i]\n",
    "\n",
    "with open(config[\"preprocess_pkl\"], \"rb\") as f:\n",
    "    preproc_config = pickle.load(f)\n",
    "\n",
    "# set up our preprocessing parameters\n",
    "low = preproc_config[\"filt_fl\"][0] * 2 / config[\"sample_rate\"]\n",
    "high = preproc_config[\"filt_fh\"][0] * 2 / config[\"sample_rate\"]\n",
    "sos = signal.butter(\n",
    "    preproc_config[\"filt_order\"],\n",
    "    [low, high],\n",
    "    btype=\"bandpass\",\n",
    "    output=\"sos\"\n",
    ")\n",
    "\n",
    "# reorder the preprocessing parameters to\n",
    "# align with the network's channel ordering\n",
    "mean, scale = [], []\n",
    "for i, channel in enumerate(sorted(channels)):\n",
    "    if channel == channels[0]:\n",
    "        strain_mean = preproc_config[\"mean\"][i]\n",
    "        strain_scale = preproc_config[\"std\"][i]\n",
    "    else:\n",
    "        mean.append(preproc_config[\"mean\"][i])\n",
    "        scale.append(preproc_config[\"std\"][i])\n",
    "\n",
    "mean = np.array(mean).astype(\"float32\")\n",
    "scale = np.array(scale).astype(\"float32\")\n",
    "\n",
    "# initialize a triton client for communicating\n",
    "# with the inference service\n",
    "client = triton.InferenceServerClient(config[\"url\"])"
   ]
  },
  {
   "cell_type": "markdown",
   "id": "db273cb8",
   "metadata": {},
   "source": [
    "Define a couple utility functions"
   ]
  },
  {
   "cell_type": "code",
   "execution_count": 4,
   "id": "892ac079",
   "metadata": {},
   "outputs": [],
   "source": [
    "def load_data(fname: str) -> Tuple[np.ndarray, np.ndarray]:\n",
    "    \"\"\"Load the strain and witness data for a given frame file\n",
    "\n",
    "    Args:\n",
    "        fname:\n",
    "            The name of the frame file in the witness\n",
    "            data directory. The name of corresponding\n",
    "            file in the strain directory will be obtained\n",
    "            by substituting 'Detchar' with 'HOFT' in\n",
    "            the filename.\n",
    "    Returns:\n",
    "        1-D strain data numpy array\n",
    "        2-D preprocessed witness data numpy array\n",
    "    \"\"\"\n",
    "\n",
    "    # read the witness data frame file\n",
    "    witness_fname = os.path.join(config[\"witness_data_dir\"], fname)\n",
    "    witness_dict = TimeSeriesDict.read(witness_fname, channels[1:])\n",
    "\n",
    "    # preprocess it by resampling, stacking into an array,\n",
    "    # then centering the data per-channel\n",
    "    witnesses = []\n",
    "    for channel in sorted(channels):\n",
    "        if channel == channels[0]:\n",
    "            # ignore strain channel\n",
    "            continue\n",
    "\n",
    "        witness = witness_dict[channel]\n",
    "        if witness.sample_rate.value != config[\"sample_rate\"]:\n",
    "            witness.resample(config[\"sample_rate\"])\n",
    "        witnesses.append(witness.value)\n",
    "\n",
    "    witnesses = np.stack(witnesses).astype(\"float32\")[None]\n",
    "    witnesses = (witnesses - mean) / scale\n",
    "\n",
    "    # load the strain data and just add it\n",
    "    # to our running array keeping track of that\n",
    "    strain_fname = os.path.join(\n",
    "        config[\"strain_data_dir\"], fname.replace(\"Detchar\", \"HOFT\")\n",
    "    )\n",
    "    strain = TimeSeries.read(strain_fname, channels[0])\n",
    "    if strain.sample_rate.value != config[\"sample_rate\"]:\n",
    "        strain.resample(config[\"sample_rate\"])[0]\n",
    "\n",
    "    return strain, witnesses\n",
    "\n",
    "\n",
    "def get_asd(ts: np.ndarray) -> FrequencySeries:\n",
    "    ts = TimeSeries(ts, sample_rate=config[\"sample_rate\"])\n",
    "    asd = ts.asd(fftlength=10, overlap=0.5, method=\"median\")\n",
    "    return asd.crop(20, 300)"
   ]
  },
  {
   "cell_type": "markdown",
   "id": "7150b89f",
   "metadata": {},
   "source": [
    "Start by doing the fully offline inference on these frames."
   ]
  },
  {
   "cell_type": "code",
   "execution_count": 5,
   "id": "5ab8b571",
   "metadata": {
    "scrolled": true
   },
   "outputs": [
    {
     "data": {
      "application/vnd.jupyter.widget-view+json": {
       "model_id": "d8d1745c40044eb3a45a5292debaa61d",
       "version_major": 2,
       "version_minor": 0
      },
      "text/plain": [
       "Output()"
      ]
     },
     "metadata": {},
     "output_type": "display_data"
    },
    {
     "data": {
      "text/html": [
       "<pre style=\"white-space:pre;overflow-x:auto;line-height:normal;font-family:Menlo,'DejaVu Sans Mono',consolas,'Courier New',monospace\">Sending requests <span style=\"color: #f92672; text-decoration-color: #f92672\">━━━━━━━━━━━━━━━━━━━━━━━━━━━━━━━━━━━━━━━╸</span> <span style=\"color: #800080; text-decoration-color: #800080\"> 99%</span> <span style=\"color: #008080; text-decoration-color: #008080\">0:00:04</span>\n",
       "</pre>\n"
      ],
      "text/plain": [
       "Sending requests \u001b[38;2;249;38;114m━━━━━━━━━━━━━━━━━━━━━━━━━━━━━━━━━━━━━━━\u001b[0m\u001b[38;2;249;38;114m╸\u001b[0m \u001b[35m 99%\u001b[0m \u001b[36m0:00:04\u001b[0m\n"
      ]
     },
     "metadata": {},
     "output_type": "display_data"
    },
    {
     "data": {
      "text/html": [
       "<pre style=\"white-space:pre;overflow-x:auto;line-height:normal;font-family:Menlo,'DejaVu Sans Mono',consolas,'Courier New',monospace\">\n",
       "</pre>\n"
      ],
      "text/plain": [
       "\n"
      ]
     },
     "metadata": {},
     "output_type": "display_data"
    }
   ],
   "source": [
    "client = triton.InferenceServerClient(config[\"url\"])\n",
    "dc_metadata = client.get_model_metadata(\"deepclean\")\n",
    "offline_input = triton.InferInput(\n",
    "    name=dc_metadata.inputs[0].name,\n",
    "    shape=dc_metadata.inputs[0].shape,\n",
    "    datatype=dc_metadata.inputs[0].datatype\n",
    ")\n",
    "\n",
    "# do inference on one frame more than we need\n",
    "# so that we can properly average everything\n",
    "fnames = os.listdir(config[\"witness_data_dir\"])[:config[\"num_frames\"] + 1]\n",
    "updates_per_frame = int(config[\"sample_rate\"] // stride_size)\n",
    "total_updates = updates_per_frame * len(fnames)\n",
    "\n",
    "noise_predictions = []\n",
    "with Progress() as progress:\n",
    "    task_id = progress.add_task(\"Sending requests\", total=total_updates)\n",
    "\n",
    "    # load in data up front since we'll immediately\n",
    "    # need the next frame as soon as we take a step\n",
    "    strain, witnesses = load_data(fnames[0])\n",
    "    for n, fname in enumerate(fnames[1:]):\n",
    "        frame_strain, frame_witnesses = load_data(fname)\n",
    "\n",
    "        witnesses = np.append(witnesses, frame_witnesses, axis=-1)\n",
    "        if n < len(fnames):\n",
    "            # ignore thet last strain, since we're not\n",
    "            # actually planning on cleaning it\n",
    "            strain = np.append(strain, frame_strain)\n",
    "\n",
    "        for i in range(updates_per_frame):\n",
    "            # slice out the current stretch of witness\n",
    "            # data and encode it into our input\n",
    "            # protobuf message\n",
    "            start = i * stride_size\n",
    "            stop = start + kernel_size\n",
    "            kernel = witnesses[:, :, start:stop]\n",
    "            offline_input.set_data_from_numpy(kernel)\n",
    "\n",
    "            # make synchronous requests to the server\n",
    "            # to keep the implementation simple\n",
    "            response = client.infer(\n",
    "                \"deepclean\",\n",
    "                model_version=str(config[\"model_version\"]),\n",
    "                inputs=[offline_input]\n",
    "            )\n",
    "\n",
    "            # parse the numpy array of our inference\n",
    "            # output from the server response\n",
    "            noise = response.as_numpy(dc_metadata.outputs[0].name)\n",
    "            noise_predictions.append(noise)\n",
    "\n",
    "            # update our progress bar and sleep for longer\n",
    "            # than we would in the real pipeline because\n",
    "            # our data size is so much larger per-request\n",
    "            progress.update(task_id, advance=1)\n",
    "            time.sleep(2 / config[\"inference_rate\"])\n",
    "\n",
    "        # slough off old data to keep memory under control\n",
    "        witnesses = witnesses[:, :, kernel_size:]"
   ]
  },
  {
   "cell_type": "markdown",
   "id": "4f2cb2d7",
   "metadata": {},
   "source": [
    "Postprocess these model predictions to produce cleaned strain."
   ]
  },
  {
   "cell_type": "code",
   "execution_count": 6,
   "id": "6263e230",
   "metadata": {},
   "outputs": [],
   "source": [
    "# bandpass filter the strain\n",
    "offline_strain = signal.sosfiltfilt(sos, strain)\n",
    "\n",
    "# now make an empty array for our noise predictions\n",
    "# and fill it with averages of overlapping windows\n",
    "offline_noise_prediction = np.zeros_like(offline_strain)\n",
    "for i in range(total_updates - updates_per_frame - 1):\n",
    "    # first few predictions don't get as many\n",
    "    # overlapping windows, so scale them accordingly\n",
    "    factor = max(1 / (i + 1), stride_size / kernel_size)\n",
    "\n",
    "    start = i * stride_size\n",
    "    stop = start + kernel_size\n",
    "    offline_noise_prediction[start: stop] = noise_predictions[i] * factor\n",
    "\n",
    "# postprocess the noise predictions by\n",
    "# uncentering and bandpass filtering\n",
    "offline_noise_prediction = strain_mean + strain_scale * offline_noise_prediction\n",
    "offline_noise_prediction = signal.sosfiltfilt(sos, offline_noise_prediction)\n",
    "\n",
    "offline_cleaned = offline_strain - offline_noise_prediction"
   ]
  },
  {
   "cell_type": "markdown",
   "id": "c3aba628",
   "metadata": {},
   "source": [
    "Let's take a preview of the ASD of the offline data here"
   ]
  },
  {
   "cell_type": "code",
   "execution_count": 7,
   "id": "d78ca7c8",
   "metadata": {},
   "outputs": [
    {
     "data": {
      "image/png": "[encoded data removed]",
      "text/plain": [
       "<Figure size 432x288 with 1 Axes>"
      ]
     },
     "metadata": {
      "needs_background": "light"
     },
     "output_type": "display_data"
    }
   ],
   "source": [
    "fig, ax = plt.subplots()\n",
    "\n",
    "ax.loglog(get_asd(offline_cleaned), label=\"cleaned\")\n",
    "ax.loglog(get_asd(offline_strain), label=\"raw\")\n",
    "ax.legend()\n",
    "fig.show()"
   ]
  },
  {
   "cell_type": "markdown",
   "id": "4609d8d0",
   "metadata": {},
   "source": [
    "# Online predictions\n",
    "Now we'll do the same inference using an online pipeline. The key difference here is that we have to make our predictions at least somewhat causally. We can take small peeks into the future at the expense of some latency, but we can't wait around for e.g. multiple seconds to make our predictions better. This means we:\n",
    "- Can't (or at least won't) do a full averaging over all `sample_rate/stride_size` frames overlapping any particular stride of data, since this would mean incurring an extra full second of latency. For this model, we've capped out latency at 0.5s, so we'll \"only\" average over `sample_rate/(2 * stride_size)` = 1024 frames.\n",
    "    - Note that this is handled on the server end by an \"aggregator\" model, so we don't need to do any averaging in our client pipeline.\n",
    "- Can't bandpass filter across stretches encompassing future data. This means that our filtered frames will fall at the edge of the segments to which the filter is applied, which may lead to some artifacts. We _can_, at the expense of memory and probably some processing time however, include past data in our filters, which should help improve the quality a bit.\n",
    "\n",
    "To recreate the asynchronous pipeline we're using in production, we need to do streaming inference using Triton, which reduces our I/O overhead to and from the inference service. To make sure our streams always update the same snapshotter state, Triton insists that we do inference _asynchronously_ and define a callback function that it can use to handle responses from the server in a separate thread.\n",
    "\n",
    "We'll define a simple callback function below that will just add the predictions to a list we'll postprocess later, but in a way that looks like the online postprocessing. The other key thing we do in the callback is throw away our first few predictions, since those will correspond to predictions for times _before_ the start of the data stream (working on a visualization to illustrate this)."
   ]
  },
  {
   "cell_type": "code",
   "execution_count": 8,
   "id": "67654374",
   "metadata": {},
   "outputs": [
    {
     "data": {
      "text/plain": [
       "name: \"deepclean-stream\"\n",
       "versions: \"1\"\n",
       "platform: \"ensemble\"\n",
       "inputs {\n",
       "  name: \"stream\"\n",
       "  datatype: \"FP32\"\n",
       "  shape: 1\n",
       "  shape: 21\n",
       "  shape: 8\n",
       "}\n",
       "outputs {\n",
       "  name: \"aggregator\"\n",
       "  datatype: \"FP32\"\n",
       "  shape: 1\n",
       "  shape: 8\n",
       "}"
      ]
     },
     "execution_count": 8,
     "metadata": {},
     "output_type": "execute_result"
    }
   ],
   "source": [
    "# start by similarly creating a protobuf input for the\n",
    "# streaming model. Note that the last dimension of this\n",
    "# input is only equal to `stride_size` rather than `kernel_size`\n",
    "metadata = client.get_model_metadata(config[\"model_name\"])\n",
    "assert metadata.inputs[0].shape[-1] == stride_size\n",
    "online_input = triton.InferInput(\n",
    "    name=metadata.inputs[0].name,\n",
    "    shape=metadata.inputs[0].shape,\n",
    "    datatype=metadata.inputs[0].datatype\n",
    ")\n",
    "\n",
    "# let's take a look at what this metadata\n",
    "# looks like for reference\n",
    "metadata"
   ]
  },
  {
   "cell_type": "code",
   "execution_count": 9,
   "id": "2a74781f",
   "metadata": {},
   "outputs": [],
   "source": [
    "noise_predictions = []\n",
    "error_queue = Queue()\n",
    "stop_event = Event()\n",
    "\n",
    "def callback(result, error=None):\n",
    "    \"\"\"Simplified version of our real callback function\"\"\"\n",
    "\n",
    "    # make sure nothing went wrong on the server\n",
    "    if error is not None and not stop_event.is_set():\n",
    "        stop_event.set()\n",
    "        error_queue.put(str(error))\n",
    "    elif stop_event.is_set():\n",
    "        # if the stop event got set, something already\n",
    "        # went wrong on the server, and there's no\n",
    "        # point in catching the same error over and over\n",
    "        return\n",
    "\n",
    "    request_id = int(result.get_response().id)\n",
    "\n",
    "    # we need to get rid of our first few inferences\n",
    "    # since they technically correspond to predictions\n",
    "    # from the before the first frame starts!\n",
    "    if request_id < throw_away:\n",
    "        return\n",
    "\n",
    "    # parse and record the server's response\n",
    "    prediction = result.as_numpy(metadata.outputs[0].name)[0]\n",
    "    noise_predictions.append(prediction)"
   ]
  },
  {
   "cell_type": "markdown",
   "id": "0c5a5b09",
   "metadata": {},
   "source": [
    "Now we're ready to do inference. We'll load in one frame at a time, then iterate through each frame in `stride_size`'d chunks which will update the snapshot state on the server."
   ]
  },
  {
   "cell_type": "code",
   "execution_count": 10,
   "id": "bee10101",
   "metadata": {},
   "outputs": [
    {
     "data": {
      "application/vnd.jupyter.widget-view+json": {
       "model_id": "11774cca2ee9404486d5785b71582a71",
       "version_major": 2,
       "version_minor": 0
      },
      "text/plain": [
       "Output()"
      ]
     },
     "metadata": {},
     "output_type": "display_data"
    },
    {
     "data": {
      "text/html": [
       "<pre style=\"white-space:pre;overflow-x:auto;line-height:normal;font-family:Menlo,'DejaVu Sans Mono',consolas,'Courier New',monospace\">Sending requests <span style=\"color: #729c1f; text-decoration-color: #729c1f\">━━━━━━━━━━━━━━━━━━━━━━━━━━━━━━━━━━━━━━━━</span> <span style=\"color: #800080; text-decoration-color: #800080\">100%</span> <span style=\"color: #008080; text-decoration-color: #008080\">0:00:00</span>\n",
       "</pre>\n"
      ],
      "text/plain": [
       "Sending requests \u001b[38;2;114;156;31m━━━━━━━━━━━━━━━━━━━━━━━━━━━━━━━━━━━━━━━━\u001b[0m \u001b[35m100%\u001b[0m \u001b[36m0:00:00\u001b[0m\n"
      ]
     },
     "metadata": {},
     "output_type": "display_data"
    },
    {
     "data": {
      "text/html": [
       "<pre style=\"white-space:pre;overflow-x:auto;line-height:normal;font-family:Menlo,'DejaVu Sans Mono',consolas,'Courier New',monospace\">\n",
       "</pre>\n"
      ],
      "text/plain": [
       "\n"
      ]
     },
     "metadata": {},
     "output_type": "display_data"
    }
   ],
   "source": [
    "# open a gRPC streaming connection to the server\n",
    "with client, Progress() as progress:\n",
    "    client.start_stream(callback=callback)\n",
    "    task_id = progress.add_task(\"Sending requests\", total=total_updates)\n",
    "\n",
    "    for n, fname in enumerate(fnames):\n",
    "        # we don't need the strain this time\n",
    "        _, witnesses = load_data(fname)\n",
    "\n",
    "        # send `stride_size`'d updates to the snapshot\n",
    "        # model on the server\n",
    "        for i in range(updates_per_frame):\n",
    "\n",
    "            # check to make sure everything is still\n",
    "            # ok on the server\n",
    "            if stop_event.is_set():\n",
    "                err = error_queue.get_nowait()\n",
    "                raise RuntimeError(err)\n",
    "\n",
    "            # update the input protobuf with the new data\n",
    "            start = i * stride_size\n",
    "            stop = (i + 1) * stride_size\n",
    "            update = witnesses[:, :, start:stop]\n",
    "            online_input.set_data_from_numpy(update)\n",
    "\n",
    "            # make an asynchronous request using the\n",
    "            # current update\n",
    "            request_id = n * updates_per_frame + i\n",
    "            client.async_stream_infer(\n",
    "                config[\"model_name\"],\n",
    "                model_version=str(config[\"model_version\"]),\n",
    "                inputs=[online_input],\n",
    "                request_id=str(request_id),\n",
    "                sequence_id=config[\"sequence_id\"],\n",
    "                sequence_start=request_id == 0,\n",
    "                sequence_end=request_id == total_updates - 1\n",
    "            )\n",
    "\n",
    "            # sleep to keep from overwhelming the network\n",
    "            progress.update(task_id, advance=1)\n",
    "            time.sleep(1 / config[\"inference_rate\"])\n",
    "\n",
    "noise_predictions = np.concatenate(noise_predictions)"
   ]
  },
  {
   "cell_type": "markdown",
   "id": "106cf7af",
   "metadata": {},
   "source": [
    "In contrast to the offline postprocessing, we need to do filtering and subtraction on a frame-by-frame basis, though we can include _past_ data for each one of our frames."
   ]
  },
  {
   "cell_type": "code",
   "execution_count": 11,
   "id": "e866d5b1",
   "metadata": {},
   "outputs": [],
   "source": [
    "online_cleaned = np.array([])\n",
    "for i in range(config[\"num_frames\"]):\n",
    "    start = i * int(config[\"sample_rate\"])\n",
    "    stop = (i + 1) * int(config[\"sample_rate\"])\n",
    "\n",
    "    # grab the predictions that would correspond\n",
    "    # to this frame\n",
    "    # frame_noise_prediction = noise_predictions[start: stop]\n",
    "    # frame_noise_prediction = strain_mean + strain_scale * frame_noise_prediction\n",
    "    # frame_noise_prediction = signal.sosfiltfilt(sos, frame_noise_prediction)\n",
    "\n",
    "    # rather than doing things on a frame-by-frame basis,\n",
    "    # which tends to be noisy, we can at least filter by\n",
    "    # using all _past_ data for any individual frame\n",
    "    online_noise = noise_predictions[:stop]\n",
    "    online_noise = strain_mean + strain_scale * online_noise\n",
    "    online_noise = signal.sosfiltfilt(sos, online_noise)\n",
    "    online_strain = signal.sosfiltfilt(sos, strain[:stop])\n",
    "\n",
    "    # now slice off the data for just this frame and\n",
    "    # subtract to produce this cleaned frame\n",
    "    online_strain, online_noise = online_strain[start:], online_noise[start:]\n",
    "    clean = online_strain - online_noise\n",
    "\n",
    "    # add this cleaned frame to our running total\n",
    "    online_cleaned = np.append(online_cleaned, clean)"
   ]
  },
  {
   "cell_type": "markdown",
   "id": "c86ad6db",
   "metadata": {},
   "source": [
    "Let's take a look at how this online cleaned data compares to the raw and offline cleaned."
   ]
  },
  {
   "cell_type": "code",
   "execution_count": 12,
   "id": "57e7277a",
   "metadata": {},
   "outputs": [
    {
     "data": {
      "image/png": "[encoded data removed]",
      "text/plain": [
       "<Figure size 432x288 with 1 Axes>"
      ]
     },
     "metadata": {
      "needs_background": "light"
     },
     "output_type": "display_data"
    }
   ],
   "source": [
    "fig, ax = plt.subplots()\n",
    "\n",
    "ax.loglog(get_asd(online_cleaned), label=\"Online Cleaned\")\n",
    "ax.loglog(get_asd(offline_cleaned), label=\"Offline Cleaned\")\n",
    "ax.loglog(get_asd(offline_strain), label=\"Raw\")\n",
    "\n",
    "ax.legend()\n",
    "fig.show()"
   ]
  },
  {
   "cell_type": "markdown",
   "id": "225cab6d",
   "metadata": {},
   "source": [
    "So substantially worse. So first thing's first, let's make sure that the predictions being returned by the server aren't causing the problem by cleaning those results in an offline fashion. Note that we shouldn't expect these results to match up perfectly with the fully offline results, because the amount of frame-by-frame averaging is different."
   ]
  },
  {
   "cell_type": "code",
   "execution_count": 13,
   "id": "b5226619",
   "metadata": {},
   "outputs": [
    {
     "data": {
      "image/png": "[encoded data removed]",
      "text/plain": [
       "<Figure size 432x288 with 1 Axes>"
      ]
     },
     "metadata": {
      "needs_background": "light"
     },
     "output_type": "display_data"
    }
   ],
   "source": [
    "uncentered = strain_mean + strain_scale * noise_predictions\n",
    "uncentered = signal.sosfiltfilt(sos, uncentered)\n",
    "\n",
    "stop = int(config[\"sample_rate\"] * config[\"num_frames\"])\n",
    "pseudo_online_cleaned = offline_strain[:stop] - uncentered[:stop]\n",
    "\n",
    "fig, ax = plt.subplots()\n",
    "ax.loglog(get_asd(pseudo_online_cleaned), label=\"Offline-cleaned online data\")\n",
    "ax.loglog(get_asd(offline_strain), label=\"Raw\")\n",
    "ax.loglog(get_asd(offline_cleaned), label=\"Offline Cleaned\")\n",
    "\n",
    "ax.legend()\n",
    "fig.show()"
   ]
  },
  {
   "cell_type": "markdown",
   "id": "7cd6259b",
   "metadata": {},
   "source": [
    "Good to get some confirmation that our IaaS implementation is doing things correctly.\n",
    "\n",
    "The next thing that pops into my mind is that while we can't look _indefinitely_ into the future to do filtering in the online implementation, we can at least look `max_latency` seconds into the future, since we've already waited around that long for our averaged predictions anyway. Maybe including this extra bit of data will preclude some of the edge effects we're seeing."
   ]
  },
  {
   "cell_type": "code",
   "execution_count": 14,
   "id": "c120d395",
   "metadata": {},
   "outputs": [
    {
     "data": {
      "image/png": "[encoded data removed]",
      "text/plain": [
       "<Figure size 432x288 with 1 Axes>"
      ]
     },
     "metadata": {
      "needs_background": "light"
     },
     "output_type": "display_data"
    }
   ],
   "source": [
    "online_plus_latency_cleaned = np.array([])\n",
    "extra = int(config[\"sample_rate\"] * config[\"max_latency\"])\n",
    "for i in range(config[\"num_frames\"]):\n",
    "    start = i * int(config[\"sample_rate\"])\n",
    "    stop = (i + 1) * int(config[\"sample_rate\"])\n",
    "\n",
    "    # grab a bit of future data as well for the purposes of filtering\n",
    "    online_noise = noise_predictions[:stop + extra]\n",
    "    online_noise = strain_mean + strain_scale * online_noise\n",
    "    online_noise = signal.sosfiltfilt(sos, online_noise)\n",
    "    online_strain = signal.sosfiltfilt(sos, strain[:stop + extra])\n",
    "\n",
    "    # but slice off just the data for this frame\n",
    "    online_strain, noise = online_strain[start:stop], noise[start:stop]\n",
    "    clean = online_strain - noise\n",
    "\n",
    "    # add this cleaned frame to our running total\n",
    "    online_plus_latency_cleaned = np.append(online_cleaned, clean)\n",
    "\n",
    "fig, ax = plt.subplots()\n",
    "ax.loglog(get_asd(online_plus_latency_cleaned), label=\"Online Cleaned with Latency\")\n",
    "ax.loglog(get_asd(offline_strain), label=\"Raw\")\n",
    "ax.loglog(get_asd(offline_cleaned), label=\"Offline Cleaned\")\n",
    "\n",
    "ax.legend()\n",
    "fig.show()"
   ]
  },
  {
   "cell_type": "markdown",
   "id": "7fa96814",
   "metadata": {},
   "source": [
    "Ok not much better. My suspicion is that the issue is that there's nothing enforcing good continuity between the samples at the edges of subsequent frames, so when we append them to one another naively this introduces artifacts. One test of this might be to compute the ASD of each individual frame, then take a look at their median.\n",
    "\n",
    "I don't expect this to look as good as the fully offline ASD due to the small window over which each ASD is being computed, but I expect it to look better than the ASD computed over the full online time series."
   ]
  },
  {
   "cell_type": "code",
   "execution_count": 15,
   "id": "edc3de95",
   "metadata": {},
   "outputs": [
    {
     "data": {
      "image/png": "[encoded data removed]",
      "text/plain": [
       "<Figure size 432x288 with 1 Axes>"
      ]
     },
     "metadata": {
      "needs_background": "light"
     },
     "output_type": "display_data"
    }
   ],
   "source": [
    "# split the cleaned data into individual frames and\n",
    "# compute the asd for each frame\n",
    "asds = []\n",
    "for frame in np.split(online_cleaned, config[\"num_frames\"]):\n",
    "    ts = TimeSeries(frame, sample_rate=config[\"sample_rate\"])\n",
    "    asd = ts.asd().crop(20, 300)\n",
    "    asds.append(asd)\n",
    "\n",
    "# compute the median at each frequency across all frames\n",
    "cleaned_asd = np.stack(asds).median(axis=0)\n",
    "\n",
    "fig, ax = plt.subplots()\n",
    "ax.loglog(cleaned_asd, label=\"Cleaned, Median per-frame\")\n",
    "ax.loglog(get_asd(offline_strain), label=\"Raw\")\n",
    "ax.legend()\n",
    "fig.show()"
   ]
  },
  {
   "cell_type": "markdown",
   "id": "ce3d6690",
   "metadata": {},
   "source": [
    "This aligns decently well with what I think I would expect given the hypothesis above, but not quite sure where to go from here."
   ]
  }
 ],
 "metadata": {
  "kernelspec": {
   "display_name": "Python 3 (ipykernel)",
   "language": "python",
   "name": "python3"
  },
  "language_info": {
   "codemirror_mode": {
    "name": "ipython",
    "version": 3
   },
   "file_extension": ".py",
   "mimetype": "text/x-python",
   "name": "python",
   "nbconvert_exporter": "python",
   "pygments_lexer": "ipython3",
   "version": "3.8.12"
  }
 },
 "nbformat": 4,
 "nbformat_minor": 5
}
